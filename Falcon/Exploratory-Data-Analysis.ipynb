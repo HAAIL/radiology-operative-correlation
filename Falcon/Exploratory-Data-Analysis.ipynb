{
 "cells": [
  {
   "cell_type": "code",
   "execution_count": null,
   "outputs": [],
   "source": [
    "import sys\n",
    "print(sys.executable)\n",
    "import re\n",
    "# !pip install trl"
   ],
   "metadata": {
    "collapsed": false
   }
  },
  {
   "cell_type": "code",
   "execution_count": null,
   "metadata": {
    "collapsed": true
   },
   "outputs": [],
   "source": [
    "import numpy as no\n",
    "import FalconTrainer as ft\n",
    "import pandas as pd\n",
    "import matplotlib.pyplot as plt\n",
    "from transformers import AutoTokenizer, AutoModelForSeq2SeqLM, T5Tokenizer, T5ForConditionalGeneration"
   ]
  },
  {
   "cell_type": "code",
   "execution_count": null,
   "outputs": [],
   "source": [
    "data = pd.read_excel(\"data3.xlsx\")\n",
    "data.head()"
   ],
   "metadata": {
    "collapsed": false
   }
  },
  {
   "cell_type": "markdown",
   "source": [
    "## Statistics"
   ],
   "metadata": {
    "collapsed": false
   }
  },
  {
   "cell_type": "markdown",
   "source": [
    "### Age"
   ],
   "metadata": {
    "collapsed": false
   }
  },
  {
   "cell_type": "code",
   "execution_count": null,
   "outputs": [],
   "source": [
    "# Function to convert age to years\n",
    "def convert_age_to_years(age_str):\n",
    "    matches = re.match(r\"(\\d+)([ym])\", age_str)\n",
    "    if matches:\n",
    "        age, unit = matches.groups()\n",
    "        age = int(age)\n",
    "        if unit == 'm':  # Convert months to years\n",
    "            age /= 12\n",
    "        return age\n",
    "    else:\n",
    "        return None\n",
    "\n",
    "# Convert all ages to years\n",
    "data['Age_in_Years'] = data['Pt_Age'].apply(convert_age_to_years)\n",
    "\n",
    "# Calculate mean and standard deviation\n",
    "mean_age = data['Age_in_Years'].mean()\n",
    "std_age = data['Age_in_Years'].std()\n",
    "print(f\"Mean age: {mean_age:.2f} years\")\n",
    "print(f\"Standard deviation of age: {std_age:.2f} years\")"
   ],
   "metadata": {
    "collapsed": false
   }
  },
  {
   "cell_type": "markdown",
   "source": [
    "### Gender"
   ],
   "metadata": {
    "collapsed": false
   }
  },
  {
   "cell_type": "code",
   "execution_count": null,
   "outputs": [],
   "source": [
    "data.Pt_Gender.value_counts(normalize=True).round(4)"
   ],
   "metadata": {
    "collapsed": false
   }
  },
  {
   "cell_type": "markdown",
   "source": [
    "### Report length"
   ],
   "metadata": {
    "collapsed": false
   }
  },
  {
   "cell_type": "code",
   "execution_count": null,
   "outputs": [],
   "source": [
    "from nltk.tokenize import sent_tokenize, word_tokenize\n",
    "import nltk\n",
    "\n",
    "# Ensure you have the necessary NLTK data\n",
    "nltk.download('punkt')"
   ],
   "metadata": {
    "collapsed": false
   }
  },
  {
   "cell_type": "code",
   "execution_count": null,
   "outputs": [],
   "source": [
    "def report_lengths(reports):\n",
    "    sentence_counts = [len(sent_tokenize(report)) for report in reports]\n",
    "    word_counts = [len(word_tokenize(report)) for report in reports]\n",
    "    return pd.Series({\n",
    "        'mean_sentence_count': pd.Series(sentence_counts).mean(),\n",
    "        'std_sentence_count': pd.Series(sentence_counts).std(),\n",
    "        'mean_word_count': pd.Series(word_counts).mean(),\n",
    "        'std_word_count': pd.Series(word_counts).std()\n",
    "    })\n",
    "\n",
    "# Calculate for Radiology Report\n",
    "rad_report_lengths = report_lengths(data['Rad_Report'])\n",
    "\n",
    "# Calculate for Operative Report\n",
    "op_report_lengths = report_lengths(data['Op_Report'].astype(str))\n",
    "\n",
    "print(\"Radiology Report Lengths (mean±std):\")\n",
    "print(\"Sentence:\", rad_report_lengths[['mean_sentence_count', 'std_sentence_count']].round(2))\n",
    "print(\"Word:\", rad_report_lengths[['mean_word_count', 'std_word_count']].round(2))\n",
    "\n",
    "print(\"\\nOperative Report Lengths (mean±std):\")\n",
    "print(\"Sentence:\", op_report_lengths[['mean_sentence_count', 'std_sentence_count']].round(2))\n",
    "print(\"Word:\", op_report_lengths[['mean_word_count', 'std_word_count']].round(2))\n"
   ],
   "metadata": {
    "collapsed": false
   }
  },
  {
   "cell_type": "markdown",
   "source": [
    "### Cosine similarity"
   ],
   "metadata": {
    "collapsed": false
   }
  },
  {
   "cell_type": "code",
   "execution_count": null,
   "outputs": [],
   "source": [
    "from sklearn.metrics.pairwise import cosine_similarity\n",
    "from sklearn.feature_extraction.text import TfidfVectorizer, CountVectorizer \n",
    "\n",
    "# cosine similarity between data['Rad_Report'] and data['Op_Report']\n",
    "tfidf = CountVectorizer()\n",
    "rad_tfidf = tfidf.fit_transform(data['Rad_Report'].astype(str))\n",
    "op_tfidf = tfidf.transform(data['Op_Report'].astype(str))\n",
    "cosine_sim = cosine_similarity(rad_tfidf, op_tfidf)\n",
    "cosine_sim = pd.Series(cosine_sim.diagonal(), index=data.index)\n",
    "cosine_sim.describe()"
   ],
   "metadata": {
    "collapsed": false
   }
  },
  {
   "cell_type": "code",
   "execution_count": null,
   "outputs": [],
   "source": [
    "import torch\n",
    "from transformers import BertTokenizer, BertModel\n",
    "from sklearn.metrics.pairwise import cosine_similarity\n",
    "import pandas as pd\n",
    "\n",
    "\n",
    "# Load pre-trained model tokenizer (vocabulary) and model\n",
    "tokenizer = BertTokenizer.from_pretrained('bert-base-uncased')\n",
    "model = BertModel.from_pretrained('bert-base-uncased')\n",
    "\n",
    "# Function to encode text to BERT embeddings\n",
    "def encode_text_to_bert_embeddings(text):\n",
    "    with torch.no_grad():\n",
    "        inputs = tokenizer(text, return_tensors=\"pt\", max_length=512, truncation=True, padding=True)\n",
    "        outputs = model(**inputs)\n",
    "        return outputs.last_hidden_state.mean(dim=1).numpy()\n",
    "\n",
    "# Vectorize the reports\n",
    "data['Rad_Report_Vector'] = data['Rad_Report'].apply(encode_text_to_bert_embeddings)\n",
    "data['Op_Report_Vector'] = data['Op_Report'].apply(encode_text_to_bert_embeddings)\n",
    "\n",
    "# Calculate Cosine Similarity\n",
    "data['Cosine_Similarity'] = data.apply(lambda row: cosine_similarity([row['Rad_Report_Vector'][0]], [row['Op_Report_Vector'][0]])[0][0], axis=1)\n",
    "\n",
    "print(data[['Cosine_Similarity']])\n"
   ],
   "metadata": {
    "collapsed": false
   }
  },
  {
   "cell_type": "markdown",
   "source": [
    "### Visualize"
   ],
   "metadata": {
    "collapsed": false
   }
  },
  {
   "cell_type": "code",
   "execution_count": null,
   "outputs": [],
   "source": [
    "data = pd.read_excel(\"data3.xlsx\")\n",
    "\n",
    "df=ft.clean_data(data, False)"
   ],
   "metadata": {
    "collapsed": false
   }
  },
  {
   "cell_type": "code",
   "execution_count": null,
   "outputs": [],
   "source": [
    "import pandas as pd\n",
    "import numpy as np\n",
    "import matplotlib.pyplot as plt\n",
    "from sklearn.manifold import TSNE\n",
    "from sklearn.feature_extraction.text import TfidfVectorizer, CountVectorizer\n",
    "from sklearn.decomposition import PCA\n",
    "# Assuming 'df' is your dataframe and is already loaded with data\n",
    "structures = ['Supraspinatus', 'Infraspinatus', 'Subscapularis', 'Biceps', 'Labrum']\n",
    "\n",
    "df=df[[\"Rad_Supraspinatus\", \"Op_Supraspinatus\", \"Rad_Infraspinatus\", \"Op_Infraspinatus\", \"Rad_Subscapularis\", \"Op_Subscapularis\", \"Rad_Biceps\", \"Op_Biceps\", \"Rad_Labrum\", \"Op_Labrum\"]].dropna()\n",
    "cols=df.columns\n",
    "\n",
    "tfidf = TfidfVectorizer()\n",
    "all_text = []\n",
    "for structure in structures:\n",
    "    rad_col = f'Rad_{structure}'\n",
    "    op_col = f'Op_{structure}'\n",
    "    all_text.extend(df[rad_col].tolist())\n",
    "    all_text.extend(df[op_col].tolist())\n",
    "    \n",
    "\n",
    "all_embeddings=tfidf.fit_transform(all_text).toarray()"
   ],
   "metadata": {
    "collapsed": false
   }
  },
  {
   "cell_type": "code",
   "execution_count": null,
   "outputs": [],
   "source": [
    "df.shape"
   ],
   "metadata": {
    "collapsed": false
   }
  },
  {
   "cell_type": "code",
   "execution_count": null,
   "outputs": [],
   "source": [
    "tsne = TSNE(n_components=2, random_state=42)\n",
    "reduced_embeddings_tsne = tsne.fit_transform(all_embeddings) "
   ],
   "metadata": {
    "collapsed": false
   }
  },
  {
   "cell_type": "code",
   "execution_count": null,
   "outputs": [],
   "source": [
    "\n",
    "n=(int)(reduced_embeddings_tsne.shape[0]/10)\n",
    "# Step 4: Visualization using t-SNE embeddings\n",
    "fig, axs = plt.subplots(1, 5, figsize=(11, 3))\n",
    "\n",
    "legend_labels = [] \n",
    "start = 0\n",
    "for i, structure in enumerate(structures):\n",
    "    # Split the embeddings into 'Rad' and 'Op'\n",
    "    rad_embeddings = reduced_embeddings_tsne[start:start+n, :2]\n",
    "    start=start+n\n",
    "    op_embeddings = reduced_embeddings_tsne[start:start+n, :2]\n",
    "    start=start+n\n",
    "\n",
    "    print(rad_embeddings.shape)\n",
    "    \n",
    "    # Plot 'Rad' and 'Op' embeddings with a box around each subplot\n",
    "    axs[i].scatter(rad_embeddings[:, 0], rad_embeddings[:, 1], color='red')\n",
    "    axs[i].scatter(op_embeddings[:, 0], op_embeddings[:, 1], color='blue')\n",
    "    axs[i].set_title(structure , fontsize=12 , y=-0.16)\n",
    "    \n",
    "    \n",
    "    # remove borders\n",
    "    axs[i].axis('off') \n",
    "    \n",
    "    \n",
    "    # Add labels for legend\n",
    "legend_labels.append(f'Radiology report')\n",
    "legend_labels.append(f'Operative report')\n",
    "\n",
    "# Create a single legend for the entire figure\n",
    "fig.legend(legend_labels, loc='upper left', fontsize=12, bbox_to_anchor=(0, 1.13))\n",
    "\n",
    "plt.tight_layout()\n",
    "plt.show()\n",
    "fig.savefig('embeddings.png', dpi=300, bbox_inches='tight')"
   ],
   "metadata": {
    "collapsed": false
   }
  }
 ],
 "metadata": {
  "kernelspec": {
   "name": "python3",
   "language": "python",
   "display_name": "Python 3 (ipykernel)"
  },
  "language_info": {
   "codemirror_mode": {
    "name": "ipython",
    "version": 2
   },
   "file_extension": ".py",
   "mimetype": "text/x-python",
   "name": "python",
   "nbconvert_exporter": "python",
   "pygments_lexer": "ipython2",
   "version": "2.7.6"
  }
 },
 "nbformat": 4,
 "nbformat_minor": 0
}
